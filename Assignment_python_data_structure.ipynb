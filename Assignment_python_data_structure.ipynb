{
  "nbformat": 4,
  "nbformat_minor": 0,
  "metadata": {
    "colab": {
      "provenance": []
    },
    "kernelspec": {
      "name": "python3",
      "display_name": "Python 3"
    },
    "language_info": {
      "name": "python"
    }
  },
  "cells": [
    {
      "cell_type": "markdown",
      "source": [
        "# 1.Write a code to reverse a string."
      ],
      "metadata": {
        "id": "xOCTsvBjOyue"
      }
    },
    {
      "cell_type": "markdown",
      "source": [],
      "metadata": {
        "id": "yaZCqG1eDfCk"
      }
    },
    {
      "cell_type": "code",
      "source": [
        "def reverse_string(s):\n",
        "  return(s[::-1]) #Using slicing\n",
        "s=\"abcdef\"\n",
        "print(reverse_string(s))\n",
        "\n",
        "\n"
      ],
      "metadata": {
        "colab": {
          "base_uri": "https://localhost:8080/"
        },
        "id": "V8_UCkF5O--W",
        "outputId": "2a617c63-e907-4843-e595-a55e398eec26"
      },
      "execution_count": null,
      "outputs": [
        {
          "output_type": "stream",
          "name": "stdout",
          "text": [
            "fedcba\n"
          ]
        }
      ]
    },
    {
      "cell_type": "markdown",
      "source": [
        "# 2. Write a code to count the number of vowels in a string."
      ],
      "metadata": {
        "id": "1BusBmuRUwBz"
      }
    },
    {
      "cell_type": "code",
      "source": [
        "def count_vowels(s):\n",
        "  map='aeiouAEIOU'\n",
        "  count=0\n",
        "  for char in s:\n",
        "    if char in map:\n",
        "      count+=1\n",
        "  return count\n",
        "s=\"jhdsvfqhweiofnvkjoeA\"\n",
        "print(count_vowels(s))\n"
      ],
      "metadata": {
        "colab": {
          "base_uri": "https://localhost:8080/"
        },
        "id": "iBZKAQ-wU4lh",
        "outputId": "da06993e-4227-4d31-b637-aaf61ac9a60c"
      },
      "execution_count": null,
      "outputs": [
        {
          "output_type": "stream",
          "name": "stdout",
          "text": [
            "6\n"
          ]
        }
      ]
    },
    {
      "cell_type": "markdown",
      "source": [
        "# 3. Write a code to check if a given string is a palindrome or not."
      ],
      "metadata": {
        "id": "9BM-5wdEXdDG"
      }
    },
    {
      "cell_type": "code",
      "source": [
        "def palindrome(s):\n",
        "  return s==s[::-1]\n",
        "s='121'\n",
        "print(palindrome(s))\n"
      ],
      "metadata": {
        "colab": {
          "base_uri": "https://localhost:8080/"
        },
        "id": "yvWPO4fNWS63",
        "outputId": "1721c5d0-de91-4fbb-b8cc-19a3e821496b"
      },
      "execution_count": null,
      "outputs": [
        {
          "output_type": "stream",
          "name": "stdout",
          "text": [
            "True\n"
          ]
        }
      ]
    },
    {
      "cell_type": "markdown",
      "source": [
        "# 4. Write a code to check if two given strings are anagrams of each other."
      ],
      "metadata": {
        "id": "yUWILYllYqro"
      }
    },
    {
      "cell_type": "code",
      "source": [
        "from collections import Counter\n",
        "def anagrams(s1,s2):\n",
        "  if len(s1) != len(s2):\n",
        "        return False\n",
        "  map1=Counter(s1)\n",
        "  map2=Counter(s2)\n",
        "  for char,freq in map1.items():\n",
        "    if char not in map2 or map2[char] !=freq:\n",
        "      return False\n",
        "  return True\n",
        "s1='qwert'\n",
        "s2='erwtq'\n",
        "print(anagrams(s1,s2))\n"
      ],
      "metadata": {
        "colab": {
          "base_uri": "https://localhost:8080/"
        },
        "id": "GPRohMILYRSN",
        "outputId": "c0ec74e2-9c05-4f42-8e9c-19fd920e39ed"
      },
      "execution_count": null,
      "outputs": [
        {
          "output_type": "stream",
          "name": "stdout",
          "text": [
            "True\n"
          ]
        }
      ]
    },
    {
      "cell_type": "markdown",
      "source": [
        "# 5.Write a code to find all occurrences of a given substring within another string\n"
      ],
      "metadata": {
        "id": "0CAlT5B2GtpL"
      }
    },
    {
      "cell_type": "code",
      "source": [
        "def occurrences(s1,s2):\n",
        "  occurr=[]\n",
        "  for i in range(len(s1)-1):\n",
        "    temp=i\n",
        "    count=0\n",
        "    for j in s2:\n",
        "      if s1[i]==j:\n",
        "        count+=1\n",
        "        i+=1\n",
        "      else:\n",
        "        break\n",
        "    if count==len(s2):\n",
        "      occurr.append(temp)\n",
        "  return(occurr)\n",
        "s1='cdabcdcd'\n",
        "s2='cd'\n",
        "print(occurrences(s1,s2))\n"
      ],
      "metadata": {
        "colab": {
          "base_uri": "https://localhost:8080/"
        },
        "id": "-pSnNLxJGyHf",
        "outputId": "22a9ce46-7612-4dd1-8436-b30b9ea9c053"
      },
      "execution_count": null,
      "outputs": [
        {
          "output_type": "stream",
          "name": "stdout",
          "text": [
            "[0, 4, 6]\n"
          ]
        }
      ]
    },
    {
      "cell_type": "markdown",
      "source": [
        "# 6.Write a code to perform basic string compression using the counts of repeated characters"
      ],
      "metadata": {
        "id": "eQInkvFOJ5pX"
      }
    },
    {
      "cell_type": "code",
      "source": [
        "from collections import Counter\n",
        "def string_compression(s1):\n",
        "  map1=Counter(s1)\n",
        "  res=''\n",
        "  for char,freq in map1.items():\n",
        "    res+=(char+str(freq))\n",
        "  return res\n",
        "s1='aaabbccdd'\n",
        "print(string_compression(s1))\n"
      ],
      "metadata": {
        "colab": {
          "base_uri": "https://localhost:8080/"
        },
        "id": "qW8N_g7bKAqb",
        "outputId": "4f246e76-08f2-419d-9a42-7f5839b34149"
      },
      "execution_count": null,
      "outputs": [
        {
          "output_type": "stream",
          "name": "stdout",
          "text": [
            "a3b2c2d2\n"
          ]
        }
      ]
    },
    {
      "cell_type": "markdown",
      "source": [
        "# 7. Write a code to determine if a string has all unique characters."
      ],
      "metadata": {
        "id": "qy5zydTZL6lN"
      }
    },
    {
      "cell_type": "code",
      "source": [
        "from collections import Counter\n",
        "def unique_charactrers(s1):#using maping\n",
        "  seen=set()\n",
        "  for i in s1:\n",
        "    if i not in seen:\n",
        "      seen.add(i)\n",
        "    else:\n",
        "      return False\n",
        "  return True\n",
        "def unique_charactrers1(s1):#without maping\n",
        "  map1=Counter(s1)\n",
        "  for char, freq in map1.items():\n",
        "    if freq != 1:\n",
        "      return False\n",
        "  return True\n",
        "s1=\"abcda\"\n",
        "print(unique_charactrers(s1))\n",
        "print(unique_charactrers1(s1))\n",
        "\n"
      ],
      "metadata": {
        "colab": {
          "base_uri": "https://localhost:8080/"
        },
        "id": "1Oslp126LNTf",
        "outputId": "ba7ab78c-3952-4d11-9e8d-ca123146f33f"
      },
      "execution_count": null,
      "outputs": [
        {
          "output_type": "stream",
          "name": "stdout",
          "text": [
            "False\n",
            "False\n"
          ]
        }
      ]
    },
    {
      "cell_type": "markdown",
      "source": [
        "# 8.Write a code to convert a given string to uppercase or lowercase\u0012"
      ],
      "metadata": {
        "id": "uB_SM0ntQwSV"
      }
    },
    {
      "cell_type": "code",
      "source": [
        "def upper(s1):#Upper Case\n",
        "  return s1.upper()\n",
        "s1='sumit'\n",
        "print(upper(s1))\n",
        "def lower_case(s2):#lower Case\n",
        "  return s2.lower()\n",
        "s2='SUMIT'\n",
        "print(lower_case(s2))\n"
      ],
      "metadata": {
        "colab": {
          "base_uri": "https://localhost:8080/"
        },
        "id": "JMbFwCreQ1Ox",
        "outputId": "e5fff4fd-f5de-4d4e-9142-23039b73e2eb"
      },
      "execution_count": null,
      "outputs": [
        {
          "output_type": "stream",
          "name": "stdout",
          "text": [
            "SUMIT\n",
            "sumit\n"
          ]
        }
      ]
    },
    {
      "cell_type": "markdown",
      "source": [
        "# 9.  Write a code to count the number of words in a string."
      ],
      "metadata": {
        "id": "4ndNHo8HRb88"
      }
    },
    {
      "cell_type": "code",
      "source": [
        "def count_words(s1):\n",
        "  split1=s1.split()\n",
        "  return len(split1)\n",
        "s1=\"I am Sumit \"\n",
        "print(count_words(s1))\n"
      ],
      "metadata": {
        "colab": {
          "base_uri": "https://localhost:8080/"
        },
        "id": "Xoxu32pfRg2N",
        "outputId": "19390fb5-ba4e-4c10-d528-a20009c15533"
      },
      "execution_count": null,
      "outputs": [
        {
          "output_type": "stream",
          "name": "stdout",
          "text": [
            "3\n"
          ]
        }
      ]
    },
    {
      "cell_type": "markdown",
      "source": [
        "# 10. Write a code to concatenate two strings without using the + operator."
      ],
      "metadata": {
        "id": "YgFHATLHSScb"
      }
    },
    {
      "cell_type": "code",
      "source": [
        "def concatenate(s1,s2):\n",
        "  return \"\".join([s1,s2])\n",
        "s1='I '\n",
        "s2='am sumit'\n",
        "print(concatenate(s1,s2))"
      ],
      "metadata": {
        "colab": {
          "base_uri": "https://localhost:8080/"
        },
        "id": "frNVB4EtSZaT",
        "outputId": "9293b1c8-6088-4aeb-9e01-79f26721b86d"
      },
      "execution_count": null,
      "outputs": [
        {
          "output_type": "stream",
          "name": "stdout",
          "text": [
            "I am sumit\n"
          ]
        }
      ]
    },
    {
      "cell_type": "markdown",
      "source": [
        "# 11.  Write a code to remove all occurrences of a specific element from a list."
      ],
      "metadata": {
        "id": "cNWqfby1VEYt"
      }
    },
    {
      "cell_type": "code",
      "source": [
        "def occurrences(s1,element):\n",
        "  res=[]\n",
        "  for i in s1:\n",
        "    if i !=element:\n",
        "      res.append(i)\n",
        "  return res\n",
        "s1 = [1, 2, 3, 4, 2, 5, 2]\n",
        "element = 2\n",
        "print(occurrences(s1,element))\n",
        "\n"
      ],
      "metadata": {
        "colab": {
          "base_uri": "https://localhost:8080/"
        },
        "id": "0gJTXO07VLgW",
        "outputId": "4a216288-1e45-4667-f6d3-6613e248da04"
      },
      "execution_count": null,
      "outputs": [
        {
          "output_type": "stream",
          "name": "stdout",
          "text": [
            "[1, 3, 4, 5]\n"
          ]
        }
      ]
    },
    {
      "cell_type": "markdown",
      "source": [
        "# 12.Implement a code to find the second largest number in a given list of integers"
      ],
      "metadata": {
        "id": "gksCKIAAXg2N"
      }
    },
    {
      "cell_type": "code",
      "source": [
        "def second_largest(list1):\n",
        "  n=len(list1)\n"
      ],
      "metadata": {
        "id": "S4uI1Fc7XlT7"
      },
      "execution_count": null,
      "outputs": []
    },
    {
      "cell_type": "markdown",
      "source": [
        "# 13. Create a code to count the occurrences of each element in a list and return a dictionary with elements as keys and their counts as values"
      ],
      "metadata": {
        "id": "cSerdC3_T-RM"
      }
    },
    {
      "cell_type": "code",
      "source": [
        "def count_occurrences(s1):\n",
        "  map1={}\n",
        "  for i in s1:\n",
        "    if i not in map1:\n",
        "      map1[i]=1\n",
        "    else:\n",
        "      map1[i]+=1\n",
        "  return map1\n",
        "s1=[1,2,2,3,4,4]\n",
        "print(count_occurrences(s1))"
      ],
      "metadata": {
        "colab": {
          "base_uri": "https://localhost:8080/"
        },
        "id": "ZrepCF63UORx",
        "outputId": "f7855edf-92fd-4378-8d30-49132db0822a"
      },
      "execution_count": null,
      "outputs": [
        {
          "output_type": "stream",
          "name": "stdout",
          "text": [
            "{1: 1, 2: 2, 3: 1, 4: 2}\n"
          ]
        }
      ]
    },
    {
      "cell_type": "markdown",
      "source": [
        "# 14. Write a code to reverse a list in-place without using any built-in reverse functions"
      ],
      "metadata": {
        "id": "V8TZWlTIWNfb"
      }
    },
    {
      "cell_type": "code",
      "source": [
        "def reverse_list(s1):\n",
        "  low=0\n",
        "  high=len(s1)-1\n",
        "  while low<high:\n",
        "    s1[low],s1[high]=s1[high],s1[low]\n",
        "    low+=1\n",
        "    high-=1\n",
        "  return s1\n",
        "s1=[1,2,3,4,5]\n",
        "print(reverse_list(s1))"
      ],
      "metadata": {
        "colab": {
          "base_uri": "https://localhost:8080/"
        },
        "id": "4nSTTmReWTzv",
        "outputId": "da2708e1-fa0c-4c9a-c2b9-b7b994b7bb66"
      },
      "execution_count": null,
      "outputs": [
        {
          "output_type": "stream",
          "name": "stdout",
          "text": [
            "[5, 4, 3, 2, 1]\n"
          ]
        }
      ]
    },
    {
      "cell_type": "markdown",
      "source": [
        "# 15.Implement a code to find and remove duplicates from a list while preserving the original order of elements"
      ],
      "metadata": {
        "id": "GKoP0h9dXnrc"
      }
    },
    {
      "cell_type": "code",
      "source": [
        "def duplicate(nums):\n",
        "  duplicate=[]\n",
        "  list1=[]\n",
        "  for i in nums:\n",
        "    if i not in list1:\n",
        "      list1.append(i)\n",
        "    elif i in list1:\n",
        "      duplicate.append(i)\n",
        "  return (duplicate,list1)\n",
        "\n",
        "nums=[1,2,3,4,5,1,2]\n",
        "print(duplicate(nums))\n"
      ],
      "metadata": {
        "colab": {
          "base_uri": "https://localhost:8080/"
        },
        "id": "aAnQPEcjXvDI",
        "outputId": "889b528a-4615-4df4-e6dd-09efee27a4ed"
      },
      "execution_count": null,
      "outputs": [
        {
          "output_type": "stream",
          "name": "stdout",
          "text": [
            "([1, 2], [1, 2, 3, 4, 5])\n"
          ]
        }
      ]
    },
    {
      "cell_type": "markdown",
      "source": [
        "# 16. Create a code to check if a given list is sorted (either in ascending or descending order) or not"
      ],
      "metadata": {
        "id": "_v0Vahh8ZEZb"
      }
    },
    {
      "cell_type": "code",
      "source": [
        "def sorted(nums):\n",
        "  for i in range(1,len(nums)):\n",
        "    if  not nums[i-1]<=nums[i]:\n",
        "      return('Ascending')\n",
        "    if nums[i-1]>=nums[i]:\n",
        "      return(\"Descending\")\n",
        "  return (\"Unsorted\")\n",
        "nums=[1,2,3,4,5]\n",
        "print(sorted(nums))\n",
        "\n",
        "\n"
      ],
      "metadata": {
        "colab": {
          "base_uri": "https://localhost:8080/"
        },
        "id": "JyTlNy8RZI8i",
        "outputId": "ecfc6b0b-d375-4162-c095-22d0eddaf16e"
      },
      "execution_count": null,
      "outputs": [
        {
          "output_type": "stream",
          "name": "stdout",
          "text": [
            "Unsorted\n"
          ]
        }
      ]
    },
    {
      "cell_type": "markdown",
      "source": [
        "# 17.Write a code to merge two sorted lists into a single sorted list"
      ],
      "metadata": {
        "id": "s7kN8pWNDpV-"
      }
    },
    {
      "cell_type": "code",
      "source": [
        "def merge(l1,l2):\n",
        "  res=[]\n",
        "  i,j=0,0\n",
        "  while(i<len(l1) and j<len(l2)):\n",
        "    if l1[i]<=l2[j]:\n",
        "      res.append(l1[i])\n",
        "      i+=1\n",
        "    else:\n",
        "      res.append(l2[i])\n",
        "  while(i<len(l1)):\n",
        "    res.append(l1[i])\n",
        "    i+=1\n",
        "  while(j<len(l2)):\n",
        "    res.append(l2[j])\n",
        "    j+=1\n",
        "  return res\n",
        "l1=[1,2,3,4,5]\n",
        "l2=[6,7,8,9]\n",
        "print(merge(l1,l2))\n",
        "\n"
      ],
      "metadata": {
        "colab": {
          "base_uri": "https://localhost:8080/"
        },
        "id": "aLtJiXO4D0XP",
        "outputId": "aafc7085-99e4-4593-f93b-92f02b453db8"
      },
      "execution_count": null,
      "outputs": [
        {
          "output_type": "stream",
          "name": "stdout",
          "text": [
            "[1, 2, 3, 4, 5, 6, 7, 8, 9]\n"
          ]
        }
      ]
    },
    {
      "cell_type": "markdown",
      "source": [
        "# 18.Implement a code to find the intersection of two given lists"
      ],
      "metadata": {
        "id": "KjWjWgmuFhny"
      }
    },
    {
      "cell_type": "code",
      "source": [
        "def intersection1(l1,l2):\n",
        "  res=[]\n",
        "  for i in l1:\n",
        "    if i in l2 :\n",
        "      res.append(i)\n",
        "  return res\n",
        "l1=[2,4,6,2,5,3]\n",
        "l2=[3,4,5,8,2,2]\n",
        "print(intersection1(l1,l2))\n",
        "\n",
        "\n"
      ],
      "metadata": {
        "colab": {
          "base_uri": "https://localhost:8080/"
        },
        "id": "6ZK7qjdVFmCy",
        "outputId": "284efc68-470d-43ae-cf03-04bf15492522"
      },
      "execution_count": null,
      "outputs": [
        {
          "output_type": "stream",
          "name": "stdout",
          "text": [
            "[2, 4, 2, 5, 3]\n"
          ]
        }
      ]
    },
    {
      "cell_type": "markdown",
      "source": [
        "# 19.Create a code to find the union of two lists without duplicates"
      ],
      "metadata": {
        "id": "YQVQyDbAHHk2"
      }
    },
    {
      "cell_type": "code",
      "source": [
        "def union(l1,l2):\n",
        "  res=[]\n",
        "  for i in l1:\n",
        "    if i not in res:\n",
        "      res.append(i)\n",
        "  for j in l2:\n",
        "    if j not in res:\n",
        "      res.append(j)\n",
        "  return res\n",
        "l1=[2,4,6,4,2,2,8]\n",
        "l2=[5,2,6,6,2,1,6]\n",
        "print(union(l1,l2))"
      ],
      "metadata": {
        "colab": {
          "base_uri": "https://localhost:8080/"
        },
        "id": "zOtoBRp7HMht",
        "outputId": "20204ea9-4811-4e9b-9152-be539381a4d7"
      },
      "execution_count": null,
      "outputs": [
        {
          "output_type": "stream",
          "name": "stdout",
          "text": [
            "[2, 4, 6, 8, 5, 1]\n"
          ]
        }
      ]
    },
    {
      "cell_type": "markdown",
      "source": [
        "# 20. Write a code to shuffle a given list randomly without using any built-in shuffle functions"
      ],
      "metadata": {
        "id": "15vnTJGsIOVp"
      }
    },
    {
      "cell_type": "code",
      "source": [
        "import random\n",
        "def shuffle(l1):\n",
        "  shuffle_list=l1[:]\n",
        "  for i in range(len(l1)):\n",
        "    j=random.randint(0,i)\n",
        "    shuffle_list[i],shuffle_list[j]=shuffle_list[j],shuffle_list[i]\n",
        "  return(shuffle_list)\n",
        "l1=[2,4,4,6,2,5]\n",
        "print(shuffle(l1))\n"
      ],
      "metadata": {
        "colab": {
          "base_uri": "https://localhost:8080/"
        },
        "id": "MZQcvrZBH6_r",
        "outputId": "2c93f713-86e5-4465-9c7b-97243637dfc4"
      },
      "execution_count": null,
      "outputs": [
        {
          "output_type": "stream",
          "name": "stdout",
          "text": [
            "[4, 5, 4, 2, 2, 6]\n"
          ]
        }
      ]
    },
    {
      "cell_type": "markdown",
      "source": [
        "# 21.write a code that takes two tuples as input and returns a new tuple containing elements that are common to both input tuples"
      ],
      "metadata": {
        "id": "WKY_anJELqRv"
      }
    },
    {
      "cell_type": "code",
      "source": [
        "def common_elements(tuple1, tuple2):\n",
        "    common = tuple(elem for elem in tuple1 if elem in tuple2)\n",
        "    return common\n",
        "tuple1_input = input(\"Enter elements of the first tuple separated by commas: \")\n",
        "tuple1 = tuple(map(int, tuple1_input.split(',')))\n",
        "tuple2_input = input(\"Enter elements of the second tuple separated by commas: \")\n",
        "tuple2 = tuple(map(int, tuple2_input.split(','))\n",
        "result_tuple = common_elements(tuple1, tuple2)\n",
        "print(\"Common Elements:\", result_tuple)"
      ],
      "metadata": {
        "colab": {
          "base_uri": "https://localhost:8080/"
        },
        "id": "1sB3eIEFLuyu",
        "outputId": "f1a1b2a8-a112-4de8-8e8d-780b19ffba94"
      },
      "execution_count": null,
      "outputs": [
        {
          "output_type": "stream",
          "name": "stdout",
          "text": [
            "Enter elements of the first tuple separated by commas: 1,2,3\n",
            "Enter elements of the second tuple separated by commas: 1,3,4,2\n",
            "Common Elements: (1, 2, 3)\n"
          ]
        }
      ]
    },
    {
      "cell_type": "markdown",
      "source": [
        "# 22.Create a code that prompts the user to enter two sets of integers separated by commas. Then, print the intersection of these two sets."
      ],
      "metadata": {
        "id": "96Bn9s36PmC3"
      }
    },
    {
      "cell_type": "code",
      "source": [
        "def intersection(t1,t2):\n",
        "  intersection1=(set(elem for elem in t1 if elem in t2))\n",
        "  return intersection1\n",
        "tuple1_elements=(input(\"Enter the elements of firts set\"))\n",
        "t1=set(tuple1_elements.split(','))\n",
        "tuple2_elements=(input(\"Enter the elements of second set\"))\n",
        "t2=set(tuple2_elements.split(','))\n",
        "result=intersection(t1,t2)\n",
        "print(\"Intersection of sets\",result)\n",
        "\n"
      ],
      "metadata": {
        "colab": {
          "base_uri": "https://localhost:8080/"
        },
        "id": "XQWFgPIVPy_i",
        "outputId": "e7495b07-0bbe-476b-a049-117f820a7e6d"
      },
      "execution_count": null,
      "outputs": [
        {
          "output_type": "stream",
          "name": "stdout",
          "text": [
            "Enter the elements of firts set1,2,3,4\n",
            "Enter the elements of second set1,2\n",
            "Intersection of sets {'2', '1'}\n"
          ]
        }
      ]
    },
    {
      "cell_type": "markdown",
      "source": [
        "#23. Write a code to concatenate two tuples. The function should take two tuples as input and return a new tuple containing elements from both input tuples"
      ],
      "metadata": {
        "id": "DETT0WqzTS1z"
      }
    },
    {
      "cell_type": "code",
      "source": [
        "def concatenate(t1,t2):\n",
        "    concatenated_list = list(t1) + list(t2)\n",
        "\n",
        "    concatenated_tuple = tuple(concatenated_list)\n",
        "    return concatenated_tuple\n",
        "\n",
        "\n",
        "t1_elements=input(\"Enter the elements of Tuplle one\")\n",
        "t1=set(t1_elements.split(','))\n",
        "t2_elements=input(\"Enter the elements of Tuplle second\")\n",
        "t2=set(t2_elements.split(','))\n",
        "print(concatenate(t1,t2))\n"
      ],
      "metadata": {
        "colab": {
          "base_uri": "https://localhost:8080/"
        },
        "id": "L9BkpxXqTXOx",
        "outputId": "a4d48837-b948-43be-cb18-8828e62bf072"
      },
      "execution_count": null,
      "outputs": [
        {
          "output_type": "stream",
          "name": "stdout",
          "text": [
            "Enter the elements of Tuplle one1,2,3,4\n",
            "Enter the elements of Tuplle second5,6,7\n",
            "('4', '3', '2', '1', '7', '5', '6')\n"
          ]
        }
      ]
    },
    {
      "cell_type": "code",
      "source": [],
      "metadata": {
        "id": "mf4zOXhUVI7t"
      },
      "execution_count": null,
      "outputs": []
    },
    {
      "cell_type": "markdown",
      "source": [
        "# 24.Develop a code that prompts the user to input two sets of strings. Then, print the elements that are present in the first set but not in the second set&"
      ],
      "metadata": {
        "id": "YDeJw3atVyMt"
      }
    },
    {
      "cell_type": "code",
      "source": [
        "def strings(s1,s2):\n",
        "  result=set(elem for elem in s1 if elem not in s2)\n",
        "  return result\n",
        "\n",
        "\n",
        "s1_elements=input(\"Enter the Elements of string first\")\n",
        "s1=set(s1_elements.split(\",\"))\n",
        "\n",
        "s2_elements=input(\"Enter the Elements of string second\")\n",
        "s2=set(s2_elements.split(\",\"))\n",
        "print(strings(s1,s2))"
      ],
      "metadata": {
        "colab": {
          "base_uri": "https://localhost:8080/"
        },
        "id": "zbVQefr6V2H7",
        "outputId": "e4bc4218-c1fc-43ff-c814-010e4630b831"
      },
      "execution_count": null,
      "outputs": [
        {
          "output_type": "stream",
          "name": "stdout",
          "text": [
            "Enter the Elements of string firste,r,r,t,y\n",
            "Enter the Elements of string secondr,u,i,a\n",
            "{'t', 'y', 'e'}\n"
          ]
        }
      ]
    },
    {
      "cell_type": "markdown",
      "source": [
        "# 25. Create a code that takes a tuple and two integers as input. The function should return a new tuple containing elements from the original tuple within the specified range of indices"
      ],
      "metadata": {
        "id": "TiPh9UrnX6IW"
      }
    },
    {
      "cell_type": "code",
      "source": [
        "def get_range_tuple(original_tuple, start, end):\n",
        "    if start < 0:\n",
        "        start = 0\n",
        "    if end > len(original_tuple) - 1:\n",
        "        end = len(original_tuple) - 1\n",
        "    return original_tuple[start:end + 1]\n",
        "\n",
        "start = int(input(\"Enter the Start index: \"))\n",
        "end = int(input(\"Enter the End index: \"))\n",
        "input1 = input(\"Enter the Elements of tuple separated by commas: \")\n",
        "original_tuple = tuple(input1.split(','))\n",
        "print(get_range_tuple(original_tuple, start, end))\n"
      ],
      "metadata": {
        "colab": {
          "base_uri": "https://localhost:8080/"
        },
        "id": "RrcyIRQAYAfk",
        "outputId": "d624291f-d0e8-4d7e-f7c7-35359df6bbed"
      },
      "execution_count": null,
      "outputs": [
        {
          "output_type": "stream",
          "name": "stdout",
          "text": [
            "Enter the Start index: 1\n",
            "Enter the End index: 4\n",
            "Enter the Elements of tuple separated by commas: 1,2,3,4,5,6,7\n",
            "('2', '3', '4', '5')\n"
          ]
        }
      ]
    },
    {
      "cell_type": "markdown",
      "source": [
        "# 26.Write a code that prompts the user to input two sets of characters. Then, print the union of these two sets&"
      ],
      "metadata": {
        "id": "jXKLbBVQirRz"
      }
    },
    {
      "cell_type": "code",
      "source": [
        "def union_set(s1,s2):\n",
        "  result=set()\n",
        "  for i in s1:\n",
        "    result.add(i)\n",
        "  for i in s2:\n",
        "    result.add(i)\n",
        "\n",
        "\n",
        "\n",
        "\n",
        "  return result\n",
        "\n",
        "\n",
        "\n",
        "\n",
        "s1_elements=input(\"Enter the elements of set first seprated by comma\")\n",
        "s1=set(s1_elements.split(\",\"))\n",
        "s2_elements=input(\"Enter the elements of set first seprated by comma\")\n",
        "s2=set(s2_elements.split(\",\"))\n",
        "print(union_set(s1,s2))\n"
      ],
      "metadata": {
        "id": "y9BAyr-JiwSK",
        "colab": {
          "base_uri": "https://localhost:8080/"
        },
        "outputId": "edcded5f-3f4a-4bee-901c-367876837450"
      },
      "execution_count": null,
      "outputs": [
        {
          "output_type": "stream",
          "name": "stdout",
          "text": [
            "Enter the elements of set first seprated by comma1,2,3\n",
            "Enter the elements of set first seprated by comma2,3,5\n",
            "{'2', '5', '3', '1'}\n"
          ]
        }
      ]
    },
    {
      "cell_type": "code",
      "source": [],
      "metadata": {
        "id": "TBZXKVyFH7du"
      },
      "execution_count": null,
      "outputs": []
    },
    {
      "cell_type": "markdown",
      "source": [
        "# 27.Develop a code that takes a tuple of integers as input. The function should return the maximum and minimum values from the tuple using tuple unpacking&"
      ],
      "metadata": {
        "id": "U8Jwmju9JrtB"
      }
    },
    {
      "cell_type": "code",
      "source": [
        "def max_min(t1):\n",
        "  max1=max(t1)\n",
        "\n",
        "  min1=min(t1)\n",
        "  return max1,min1\n",
        "\n",
        "\n",
        "t1_elements=(input(\"Enter the elements of tuple seprated by comma\"))\n",
        "t1=tuple(t1_elements.split(\",\"))\n",
        "max1,min1=max_min(t1)\n",
        "print(\"Max Element\",max1)\n",
        "print(\"Min Element\",min1)\n"
      ],
      "metadata": {
        "id": "9hTE2kWIJwIH",
        "colab": {
          "base_uri": "https://localhost:8080/"
        },
        "outputId": "6ee3258b-dfbe-4c98-e1cc-8cfe1cbfcc98"
      },
      "execution_count": 11,
      "outputs": [
        {
          "output_type": "stream",
          "name": "stdout",
          "text": [
            "Enter the elements of tuple seprated by comma1,2\n",
            "Max Element 2\n",
            "Min Element 1\n"
          ]
        }
      ]
    },
    {
      "cell_type": "markdown",
      "source": [
        "# 28.Create a code that defines two sets of integers. Then, print the union, intersection, and difference of these two sets&"
      ],
      "metadata": {
        "id": "iH3MsABzULEx"
      }
    },
    {
      "cell_type": "code",
      "source": [
        "def operations1(s1, s2):\n",
        "    union = set()\n",
        "    intersection = set(elem for elem in s1 if elem in s2)\n",
        "    difference = set(elem for elem in s1 if elem not in s2)\n",
        "    for i in s1:\n",
        "        union.add(i)\n",
        "    for i in s2:\n",
        "        union.add(i)\n",
        "    return union, intersection, difference\n",
        "\n",
        "s1_elements = input(\"Enter the elements of the first set separated by comma: \")\n",
        "s1 = set(s1_elements.split(\",\"))\n",
        "s2_elements = input(\"Enter the elements of the second set separated by comma: \")\n",
        "s2 = set(s2_elements.split(\",\"))\n",
        "union, intersection, difference = operations1(s1, s2)\n",
        "\n",
        "print(\"Union:\", union)\n",
        "print(\"Intersection:\", intersection)\n",
        "print(\"Difference:\", difference)\n"
      ],
      "metadata": {
        "colab": {
          "base_uri": "https://localhost:8080/"
        },
        "id": "8paXfhRjUTri",
        "outputId": "c0753ec2-2aa8-4bfd-953f-5a57a412a056"
      },
      "execution_count": 13,
      "outputs": [
        {
          "output_type": "stream",
          "name": "stdout",
          "text": [
            "Enter the elements of the first set separated by comma: 1,2,4\n",
            "Enter the elements of the second set separated by comma: 4,8,1\n",
            "Union: {'8', '4', '2', '1'}\n",
            "Intersection: {'4', '1'}\n",
            "Difference: {'2'}\n"
          ]
        }
      ]
    },
    {
      "cell_type": "code",
      "source": [],
      "metadata": {
        "id": "d9tKgzhIWJm6"
      },
      "execution_count": null,
      "outputs": []
    },
    {
      "cell_type": "markdown",
      "source": [
        "# 29.Write a code that takes a tuple and an element as input. The function should return the count of occurrences of the given element in the tuple"
      ],
      "metadata": {
        "id": "a8XJo-Bzb6We"
      }
    },
    {
      "cell_type": "code",
      "source": [
        "def count_occurrences(tup, element):\n",
        "    count = 0\n",
        "    for item in tup:\n",
        "        if item == element:\n",
        "            count += 1\n",
        "    return count\n",
        "input_tuple = (1, 2, 3, 4, 2, 5, 2)\n",
        "element_to_count = 2\n",
        "occurrences = count_occurrences(input_tuple, element_to_count)\n",
        "print(f\"The element {element_to_count} occurs {occurrences} times in the tuple.\")\n"
      ],
      "metadata": {
        "colab": {
          "base_uri": "https://localhost:8080/"
        },
        "id": "mrMc9-v0b_VD",
        "outputId": "2b091cbc-9a60-4d92-b679-cfcfb4e10bf3"
      },
      "execution_count": 17,
      "outputs": [
        {
          "output_type": "stream",
          "name": "stdout",
          "text": [
            "The element 2 occurs 3 times in the tuple.\n"
          ]
        }
      ]
    },
    {
      "cell_type": "markdown",
      "source": [
        "# 30.Develop a code that prompts the user to input two sets of strings. Then, print the symmetric difference of these two sets"
      ],
      "metadata": {
        "id": "APvdvhUcfZVF"
      }
    },
    {
      "cell_type": "code",
      "source": [
        "def symmetric_diff(s1,s2):\n",
        "  result=s1^s2\n",
        "  return result\n",
        "s1_elements = input(\"Enter the elements of the first set separated by comma: \")\n",
        "s1 = set(s1_elements.split(\",\"))\n",
        "s2_elements = input(\"Enter the elements of the second set separated by comma: \")\n",
        "s2 = set(s2_elements.split(\",\"))\n",
        "print(symmetric_diff(s1,s2))\n",
        "\n"
      ],
      "metadata": {
        "colab": {
          "base_uri": "https://localhost:8080/"
        },
        "id": "0gwxaW08coqk",
        "outputId": "81d6011f-c0fc-48e8-c7b1-9a93a72df32d"
      },
      "execution_count": 18,
      "outputs": [
        {
          "output_type": "stream",
          "name": "stdout",
          "text": [
            "Enter the elements of the first set separated by comma: a,s,d,f\n",
            "Enter the elements of the second set separated by comma: a,e,r,j\n",
            "{'r', 'd', 's', 'j', 'f', 'e'}\n"
          ]
        }
      ]
    },
    {
      "cell_type": "code",
      "source": [],
      "metadata": {
        "id": "f3tsL9azhj0G"
      },
      "execution_count": null,
      "outputs": []
    }
  ]
}